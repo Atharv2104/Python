{
 "cells": [
  {
   "cell_type": "code",
   "execution_count": null,
   "id": "f3734b3b",
   "metadata": {},
   "outputs": [
    {
     "name": "stdout",
     "output_type": "stream",
     "text": [
      "name: Atharv\n",
      "age: 21\n"
     ]
    }
   ],
   "source": [
    "#super keyword\n",
    "\n",
    "class person:\n",
    "     def __init__(self,name,age):\n",
    "            self.name=name\n",
    "            self.age=age\n",
    "     def show(self):\n",
    "            print(\"name:\",self.name)\n",
    "            print(\"age:\",self.age)\n",
    "\n",
    "class Student(person):\n",
    "      def __init__(self, name, age):\n",
    "            super().__init__(name,age)\n",
    "\n",
    "      def show(self):\n",
    "            super().show()\n",
    "\n",
    "\n",
    "s=Student(\"Atharv\",21)\n",
    "s.show()\n",
    "\n",
    "\n",
    "\n",
    "\n",
    "\n",
    "           "
   ]
  },
  {
   "cell_type": "code",
   "execution_count": 2,
   "id": "af2a40ed",
   "metadata": {},
   "outputs": [
    {
     "name": "stdout",
     "output_type": "stream",
     "text": [
      "name: Atharv\n",
      "age: 21\n",
      "salary: 50000\n"
     ]
    }
   ],
   "source": [
    "class person:\n",
    "        def __init__(self,name,age):\n",
    "                self.name=name\n",
    "                self.age=age\n",
    "        def show(self):\n",
    "                print(\"name:\",self.name)\n",
    "                print(\"age:\",self.age)\n",
    "\n",
    "class Employee(person):\n",
    "        def __init__(self,name,age,salary):\n",
    "                super().__init__(name,age)\n",
    "                self.salary=salary\n",
    "        def show(self):\n",
    "                super().show()\n",
    "                print(\"salary:\",self.salary)\n",
    "\n",
    "E=Employee(\"Atharv\",21,50000)\n",
    "E.show()\n",
    "                                "
   ]
  },
  {
   "cell_type": "code",
   "execution_count": 4,
   "id": "ae6e9419",
   "metadata": {},
   "outputs": [
    {
     "name": "stdout",
     "output_type": "stream",
     "text": [
      "Parent constructor\n",
      "Child constructor\n",
      "Parent show() method\n",
      "Child show() method\n"
     ]
    }
   ],
   "source": [
    "class Parent:\n",
    "    def __init__(self):\n",
    "        print(\"Parent constructor\")\n",
    "\n",
    "    def show(self):\n",
    "        print(\"Parent show() method\")\n",
    "\n",
    "class Child(Parent):\n",
    "    def __init__(self):\n",
    "        super().__init__()   # calls Parent constructor\n",
    "        print(\"Child constructor\")\n",
    "\n",
    "    def show(self):\n",
    "        super().show()       # calls Parent show()\n",
    "        print(\"Child show() method\")\n",
    "\n",
    "obj = Child()\n",
    "obj.show()\n"
   ]
  },
  {
   "cell_type": "code",
   "execution_count": 3,
   "id": "352b5c61",
   "metadata": {},
   "outputs": [
    {
     "name": "stdout",
     "output_type": "stream",
     "text": [
      "name: Atharv\n",
      "age: 21\n",
      "salary: 50000\n"
     ]
    }
   ],
   "source": [
    "#metod overriding\n",
    "class person:\n",
    "        def __init__(self,name,age):\n",
    "                self.name=name\n",
    "                self.age=age\n",
    "        def show(self):\n",
    "                print(\"name:\",self.name)\n",
    "                print(\"age:\",self.age)\n",
    "class Employee(person):\n",
    "        \n",
    "    def __init__(self, name, age, salary):\n",
    "        \n",
    "        super().__init__(name, age)\n",
    "        self.salary = salary\n",
    "\n",
    "    \n",
    "    def show(self):\n",
    "        \n",
    "        super().show()\n",
    "        print(\"salary:\", self.salary)\n",
    "\n",
    "E = Employee(\"Atharv\", 21, 50000)\n",
    "E.show()\n",
    "        \n",
    "\n",
    "\n",
    "\n",
    "\n",
    "\n",
    "\n",
    "\n",
    "\n",
    "\n",
    "\n",
    "\n",
    "\n",
    "                    "
   ]
  },
  {
   "cell_type": "code",
   "execution_count": null,
   "id": "b6a8c378",
   "metadata": {},
   "outputs": [
    {
     "name": "stdout",
     "output_type": "stream",
     "text": [
      "Bark\n"
     ]
    }
   ],
   "source": [
    "class Animal:\n",
    "    def sound(self):\n",
    "        print(\"Some generic animal sound\")\n",
    "\n",
    "class Dog(Animal):\n",
    "    def sound(self):   # overriding parent method\n",
    "        print(\"Bark\")\n",
    "\n",
    "\n",
    "obj = Dog()\n",
    "obj.sound()\n"
   ]
  },
  {
   "cell_type": "code",
   "execution_count": 6,
   "id": "a3b0a53f",
   "metadata": {},
   "outputs": [
    {
     "name": "stdout",
     "output_type": "stream",
     "text": [
      "5\n",
      "9\n",
      "6\n",
      "24\n"
     ]
    }
   ],
   "source": [
    "#method overloading\n",
    "class Math:\n",
    "        def add(self,a,b,c=0):\n",
    "            return a+b+c\n",
    "        def multiply(self,a,b,c=1):\n",
    "            return a*b*c\n",
    "\n",
    "M=Math()\n",
    "print(M.add(2,3))\n",
    "print(M.add(2,3,4))\n",
    "print(M.multiply(2,3))\n",
    "print(M.multiply(2,3,4))\n",
    "\n",
    "\n",
    "\n",
    "\n"
   ]
  },
  {
   "cell_type": "code",
   "execution_count": 7,
   "id": "29d1d9b8",
   "metadata": {},
   "outputs": [
    {
     "name": "stdout",
     "output_type": "stream",
     "text": [
      "5\n",
      "9\n",
      "14\n"
     ]
    }
   ],
   "source": [
    "class Math:\n",
    "       def add(self,*args):\n",
    "           return sum(args)\n",
    "M=Math()\n",
    "print(M.add(2,3))\n",
    "print(M.add(2,3,4))\n",
    "print(M.add(2,3,4,5))    \n",
    "        "
   ]
  },
  {
   "cell_type": "code",
   "execution_count": 9,
   "id": "0ff7ae25",
   "metadata": {},
   "outputs": [
    {
     "name": "stdout",
     "output_type": "stream",
     "text": [
      "Bark\n",
      "Meow\n"
     ]
    }
   ],
   "source": [
    "#Abstract method\n",
    "\n",
    "from abc import ABC, abstractmethod\n",
    "\n",
    "class Animal(ABC):\n",
    "    @abstractmethod\n",
    "    def sound(self):\n",
    "        pass   \n",
    "\n",
    "class Dog(Animal):\n",
    "    def sound(self):\n",
    "        print(\"Bark\")\n",
    "\n",
    "class Cat(Animal):\n",
    "    def sound(self):\n",
    "        print(\"Meow\")\n",
    "\n",
    "\n",
    "d = Dog()\n",
    "d.sound()\n",
    "c = Cat()\n",
    "c.sound()\n",
    "\n"
   ]
  },
  {
   "cell_type": "code",
   "execution_count": 10,
   "id": "1f44eca7",
   "metadata": {},
   "outputs": [
    {
     "name": "stdout",
     "output_type": "stream",
     "text": [
      "Area of rectangle: 6\n",
      "Perimeter of rectangle: 10\n",
      "Area of circle: 78.5\n"
     ]
    }
   ],
   "source": [
    "from abc import ABC, abstractmethod \n",
    "class Shape(ABC):\n",
    "    @abstractmethod\n",
    "    def area(self):\n",
    "        pass\n",
    "    def perimeter(self):\n",
    "        pass\n",
    "\n",
    "class Rectangle(Shape):\n",
    "    def __init__(self,length,breadth):\n",
    "         self.length=length\n",
    "         self.breadth=breadth\n",
    "    def  area(self):\n",
    "        return self.length*self.breadth\n",
    "    def perimeter(self):\n",
    "        return 2*(self.length+self.breadth)\n",
    "class Circle(Shape):\n",
    "    def __init__(self,radius):\n",
    "         self.radius=radius\n",
    "    def area(self):\n",
    "        return 3.14*self.radius*self.radius\n",
    "    def perimeter(self):\n",
    "        return 2*3.14*self.radius\n",
    "\n",
    "\n",
    "R=Rectangle(2,3)\n",
    "print(\"Area of rectangle:\",R.area())\n",
    "print(\"Perimeter of rectangle:\",R.perimeter())\n",
    "C=Circle(5)\n",
    "print(\"Area of circle:\",C.area())\n",
    "\n"
   ]
  },
  {
   "cell_type": "code",
   "execution_count": null,
   "id": "849ced92",
   "metadata": {},
   "outputs": [],
   "source": [
    "from abc import ABC, abstractmethod\n",
    "\n",
    "# Abstract Base Class\n",
    "class Person(ABC):\n",
    "    def __init__(self, name, age):\n",
    "        self.name = name\n",
    "        self.age = age\n",
    "\n",
    "    @abstractmethod\n",
    "    def show(self):\n",
    "        \"\"\"Abstract method to show details\"\"\"\n",
    "        pass\n",
    "\n",
    "    # Method overloading simulated with default arguments\n",
    "    def greet(self, greeting=\"Hello\"):\n",
    "        print(f\"{greeting}, {self.name}!\")\n",
    "\n",
    "# Subclass\n",
    "class Employee(Person):\n",
    "    def __init__(self, name, age, salary):\n",
    "        super().__init__(name, age)  # call parent constructor\n",
    "        self.salary = salary\n",
    "\n",
    "    # Method overriding\n",
    "    def show(self):\n",
    "        super().greet(\"Welcome\")   # call parent's method\n",
    "        print(f\"Name: {self.name}, Age: {self.age}, Salary: {self.salary}\")\n",
    "\n",
    "    # Overloading in child class using *args\n",
    "    def greet(self, *args):\n",
    "        if len(args) == 0:\n",
    "            print(f\"Hello, {self.name}!\")          # no argument\n",
    "        elif len(args) == 1:\n",
    "            print(f\"{args[0]}, {self.name}!\")      # one argument\n",
    "        elif len(args) == 2:\n",
    "            print(f\"{args[0]}, {self.name}! You are {args[1]} years old.\")  # two arguments\n",
    "        else:\n",
    "            super().greet()  # fallback to parent\n",
    "\n",
    "# Testing\n",
    "emp = Employee(\"Atharv\", 25, 50000)\n",
    "\n",
    "# Abstract method (implemented in child)\n",
    "emp.show()\n",
    "\n",
    "# Method overloading\n",
    "emp.greet()\n",
    "emp.greet(\"Hi\")\n",
    "emp.greet(\"Greetings\", 25)\n"
   ]
  }
 ],
 "metadata": {
  "kernelspec": {
   "display_name": "base",
   "language": "python",
   "name": "python3"
  },
  "language_info": {
   "codemirror_mode": {
    "name": "ipython",
    "version": 3
   },
   "file_extension": ".py",
   "mimetype": "text/x-python",
   "name": "python",
   "nbconvert_exporter": "python",
   "pygments_lexer": "ipython3",
   "version": "3.13.5"
  }
 },
 "nbformat": 4,
 "nbformat_minor": 5
}
