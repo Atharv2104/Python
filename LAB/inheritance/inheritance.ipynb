{
 "cells": [
  {
   "cell_type": "code",
   "execution_count": null,
   "id": "dc1e077a",
   "metadata": {},
   "outputs": [
    {
     "name": "stdout",
     "output_type": "stream",
     "text": [
      "name: Atharv\n",
      "Atharv is a employee\n"
     ]
    }
   ],
   "source": [
    "#single inheritance\n",
    "class person:\n",
    "    def __init__(self,name):\n",
    "        self.name=name\n",
    "\n",
    "class employee(person):\n",
    "     def role(self):\n",
    "         print(self.name,\"is a employee\")\n",
    "\n",
    "e=employee(\"Atharv\")\n",
    "print(\"name:\",e.name)\n",
    "e.role()\n",
    "\n"
   ]
  },
  {
   "cell_type": "code",
   "execution_count": null,
   "id": "e134d010",
   "metadata": {},
   "outputs": [
    {
     "name": "stdout",
     "output_type": "stream",
     "text": [
      "name: Atharv\n",
      "salary: 50000\n",
      "Atharv is a employee with salary 50000\n"
     ]
    }
   ],
   "source": [
    "#multiple inheritance\n",
    "class person:\n",
    "    def __init__(self,name):\n",
    "        self.name=name\n",
    "\n",
    "class Job:\n",
    "    def __init__(self,salary):\n",
    "        self.salary=salary\n",
    "\n",
    "class employee(person,Job):\n",
    "    def __init__(self, name,salary):\n",
    "        person.__init__(self,name)\n",
    "        Job.__init__(self,salary)   \n",
    "\n",
    "    def details(self):\n",
    "        print(self.name,\"is a employee with salary\",self.salary)\n",
    "e=employee(\"Atharv\",50000) \n",
    "print(\"name:\",e.name) \n",
    "print(\"salary:\",e.salary)\n",
    "e.details()          \n",
    "        \n",
    "\n"
   ]
  },
  {
   "cell_type": "code",
   "execution_count": null,
   "id": "7298ec07",
   "metadata": {},
   "outputs": [
    {
     "name": "stdout",
     "output_type": "stream",
     "text": [
      "name: Atharv\n",
      "Atharv is a employee\n",
      "Atharv is a manager of IT department\n"
     ]
    }
   ],
   "source": [
    "#multilevel inheritance\n",
    "class person:\n",
    "    def __init__(self,name):\n",
    "        self.name=name\n",
    "\n",
    "class employee(person):\n",
    "    def role(self): \n",
    "        print(self.name,\"is a employee\")  \n",
    "\n",
    "class manager(employee):\n",
    "    def department(self,dept):\n",
    "        print(self.name,\"is a manager of\",dept,\"department\")\n",
    "\n",
    "m=manager(\"Atharv\")\n",
    "print(\"name:\",m.name)\n",
    "m.role()\n",
    "m.department(\"IT\")\n",
    "\n",
    "        "
   ]
  },
  {
   "cell_type": "code",
   "execution_count": null,
   "id": "8e3cdf62",
   "metadata": {},
   "outputs": [
    {
     "name": "stdout",
     "output_type": "stream",
     "text": [
      "name: Atharv\n",
      "Atharv is a employee\n",
      "name: ram\n",
      "ram is a intern\n"
     ]
    }
   ],
   "source": [
    "#hierarchical inheritance\n",
    "class person:\n",
    "    def __init__(self,name):\n",
    "        self.name=name\n",
    "\n",
    "class employee(person):\n",
    "    def role(self):\n",
    "        print(self.name,\"is a employee\")\n",
    "\n",
    "class intern(person):\n",
    "     def role(self):\n",
    "         print(self.name,\"is a intern\")\n",
    "\n",
    "e=employee(\"Atharv\")\n",
    "print(\"name:\",e.name)\n",
    "e.role()\n",
    "i=intern(\"ram\")\n",
    "print(\"name:\",i.name)   \n",
    "i.role()\n",
    "        "
   ]
  },
  {
   "cell_type": "code",
   "execution_count": null,
   "id": "521674f3",
   "metadata": {},
   "outputs": [
    {
     "name": "stdout",
     "output_type": "stream",
     "text": [
      "name: Atharv\n",
      "Projectname: AI\n",
      "Atharv is a employee\n",
      "Atharv is a Teamlead of project AI\n"
     ]
    }
   ],
   "source": [
    "# hybrid inheritance\n",
    "class person:\n",
    "    def __init__(self, name):\n",
    "\n",
    "        self.name = name\n",
    "class employee(person):\n",
    "    def role(self):\n",
    "        print(self.name, \"is a employee\")\n",
    "\n",
    "class project:\n",
    "    def __init__(self,Projectname):\n",
    "        self.Projectname=Projectname\n",
    "\n",
    "class Teamlead(employee,project):\n",
    "    def __init__(self, name,Projectname):\n",
    "        person.__init__(self, name)\n",
    "        project.__init__(self,Projectname)\n",
    "    def details(self):\n",
    "        print(self.name, \"is a Teamlead of project\",self.Projectname)\n",
    "\n",
    "lead=Teamlead(\"Atharv\",\"AI\")\n",
    "print(\"name:\", lead.name)\n",
    "print(\"Projectname:\", lead.Projectname)\n",
    "lead.role()\n",
    "lead.details()\n",
    "\n",
    "        \n",
    "\n",
    "    \n",
    "        "
   ]
  },
  {
   "cell_type": "code",
   "execution_count": null,
   "id": "6cbcf63f",
   "metadata": {},
   "outputs": [
    {
     "name": "stdout",
     "output_type": "stream",
     "text": [
      "area of rectangle: 30\n"
     ]
    }
   ],
   "source": [
    "class shape:\n",
    "    def __init__(self,x,y):\n",
    "        self.x=x\n",
    "        self.y=y\n",
    "\n",
    "class rectangle(shape):\n",
    "        def __init__(self, x, y):\n",
    "             super().__init__(x, y)\n",
    "\n",
    "        def area(self):\n",
    "             return self.x*self.y\n",
    "r=rectangle(5,6)\n",
    "print(\"area of rectangle:\",r.area())"
   ]
  },
  {
   "cell_type": "code",
   "execution_count": null,
   "id": "714c2c0e",
   "metadata": {},
   "outputs": [
    {
     "name": "stdout",
     "output_type": "stream",
     "text": [
      "area of triangle: 15.0\n",
      "area of rectangle: 30\n",
      "perimeter of rectangle: 22\n",
      "area of square: 25\n",
      "perimeter of square: 20\n",
      "area of circle: 50.24\n",
      "perimeter of circle: 25.12\n"
     ]
    }
   ],
   "source": [
    "class shape:\n",
    "    def __init__(self,x,y):\n",
    "\n",
    "        self.x=x\n",
    "        self.y=y\n",
    "class Triangle(shape):\n",
    "    def __init__(self, x, y):\n",
    "         super().__init__(x, y)\n",
    "\n",
    "    def area(self):\n",
    "         return 0.5*self.x*self.y \n",
    "    \n",
    "\n",
    "class rectangle(shape):\n",
    "    def __init__(self, x, y):\n",
    "            super().__init__(x, y)\n",
    "\n",
    "    def area(self):\n",
    "         return self.x*self.y\n",
    "    def perimeter(self):\n",
    "         return 2*(self.x+self.y)\n",
    "\n",
    "class square(shape):\n",
    "    def __init__(self, x):\n",
    "         super().__init__(x, x)\n",
    "\n",
    "    def area(self):\n",
    "         return self.x*self.x\n",
    "    def perimeter(self):\n",
    "         return 4*self.x\n",
    "    \n",
    "class circle:\n",
    "    def __init__(self, r):\n",
    "         self.r=r\n",
    "\n",
    "    def area(self):\n",
    "         return 3.14*self.r*self.r\n",
    "    def perimeter(self):\n",
    "         return 2*3.14*self.r\n",
    "    \n",
    "\n",
    "\n",
    "t=Triangle(5,6)\n",
    "print(\"area of triangle:\",t.area())\n",
    "r=rectangle(5,6)\n",
    "print(\"area of rectangle:\",r.area())\n",
    "print(\"perimeter of rectangle:\",r.perimeter())\n",
    "s=square(5)\n",
    "print(\"area of square:\",s.area())\n",
    "print(\"perimeter of square:\",s.perimeter())\n",
    "c=circle(4)\n",
    "print(\"area of circle:\",c.area())\n",
    "print(\"perimeter of circle:\",c.perimeter())\n",
    "\n",
    "                               "
   ]
  },
  {
   "cell_type": "code",
   "execution_count": null,
   "id": "5d711072",
   "metadata": {},
   "outputs": [
    {
     "name": "stdout",
     "output_type": "stream",
     "text": [
      "name: Atharv\n",
      "age: 21\n",
      "salary: 90000\n"
     ]
    }
   ],
   "source": [
    "class person:\n",
    "    def __init__(self,name,age,salary):\n",
    "        self.name=name\n",
    "        self.age=age\n",
    "        self.salary=salary\n",
    "    def display(self):\n",
    "        print(\"name:\",self.name)\n",
    "        print(\"age:\",self.age)\n",
    "        print(\"salary:\",self.salary)\n",
    "p=person(\"Atharv\",21,90000)\n",
    "p.display()\n",
    "\n",
    "        "
   ]
  },
  {
   "cell_type": "code",
   "execution_count": null,
   "id": "724a0938",
   "metadata": {},
   "outputs": [
    {
     "name": "stdout",
     "output_type": "stream",
     "text": [
      "name: Atharv\n",
      "age: 21\n",
      "salary: 90000\n",
      "Atharv is a employee\n",
      "Atharv is working on AI project\n",
      "project name: AI\n"
     ]
    }
   ],
   "source": [
    "class person:\n",
    "    def __init__(self,name,age,salary):\n",
    "        self.name=name\n",
    "        self.age=age\n",
    "        self.salary=salary\n",
    "class employee (person):\n",
    "    def __init__(self,name,age,salary):\n",
    "        super().__init__(name,age,salary)\n",
    "\n",
    "    def role(self):\n",
    "        print(self.name,\"is a employee\")\n",
    "\n",
    "    def project(self,proj):\n",
    "        print(self.name,\"is working on\",proj,\"project\")\n",
    "\n",
    "\n",
    "class project:\n",
    "    def __init__(self,projname):\n",
    "        self.projname=projname\n",
    "\n",
    "    def details(self):\n",
    "        print(\"project name:\",self.projname)\n",
    "\n",
    "\n",
    "e=employee(\"Atharv\",21,90000)\n",
    "print(\"name:\",e.name)\n",
    "print(\"age:\",e.age)\n",
    "print(\"salary:\",e.salary)\n",
    "e.role()\n",
    "e.project(\"AI\")\n",
    "p=project(\"AI\")\n",
    "p.details()\n",
    "\n",
    "\n",
    "\n",
    "\n",
    "\n",
    "           \n",
    "              "
   ]
  },
  {
   "cell_type": "code",
   "execution_count": null,
   "id": "3fc65b0a",
   "metadata": {},
   "outputs": [],
   "source": []
  }
 ],
 "metadata": {
  "kernelspec": {
   "display_name": "base",
   "language": "python",
   "name": "python3"
  },
  "language_info": {
   "codemirror_mode": {
    "name": "ipython",
    "version": 3
   },
   "file_extension": ".py",
   "mimetype": "text/x-python",
   "name": "python",
   "nbconvert_exporter": "python",
   "pygments_lexer": "ipython3",
   "version": "3.13.5"
  }
 },
 "nbformat": 4,
 "nbformat_minor": 5
}
